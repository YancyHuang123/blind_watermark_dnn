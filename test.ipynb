{
 "cells": [
  {
   "cell_type": "code",
   "execution_count": 9,
   "metadata": {},
   "outputs": [],
   "source": [
    "import torch,torchvision\n",
    "import torchvision.transforms as transforms"
   ]
  },
  {
   "cell_type": "code",
   "execution_count": 10,
   "metadata": {},
   "outputs": [
    {
     "data": {
      "text/plain": [
       "True"
      ]
     },
     "execution_count": 10,
     "metadata": {},
     "output_type": "execute_result"
    }
   ],
   "source": [
    "torch.cuda.is_available()"
   ]
  },
  {
   "cell_type": "code",
   "execution_count": 11,
   "metadata": {},
   "outputs": [],
   "source": [
    "transform_train = transforms.Compose([\n",
    "    transforms.RandomCrop(32, padding=4),\n",
    "    transforms.RandomHorizontalFlip(),\n",
    "    transforms.ToTensor(),\n",
    "    transforms.Normalize((0.5, 0.5, 0.5), (0.5, 0.5, 0.5))])\n",
    "transform_test = transforms.Compose([\n",
    "    transforms.ToTensor(),\n",
    "    transforms.Normalize((0.5, 0.5, 0.5), (0.5, 0.5, 0.5))])\n",
    "\n",
    "# load trainset and testset\n",
    "trainset = torchvision.datasets.CIFAR10(\n",
    "    root=args.dataroot, train=True, download=True, transform=transform_train)\n",
    "trainloader = torch.utils.data.DataLoader(\n",
    "    trainset, batch_size=args.batchsize, shuffle=True, num_workers=2, drop_last=True)\n",
    "testset = torchvision.datasets.CIFAR10(\n",
    "    root=args.dataroot, train=False, download=True, transform=transform_test)\n",
    "testloader = torch.utils.data.DataLoader(\n",
    "    testset, batch_size=args.batchsize, shuffle=False, num_workers=2, drop_last=True)\n",
    "# load the 1% origin sample\n",
    "trigger_set = torchvision.datasets.CIFAR10(\n",
    "    root=args.dataroot, train=True, download=True, transform=transform_test)\n",
    "trigger_loader = torch.utils.data.DataLoader(\n",
    "    trigger_set, batch_size=args.wm_batchsize, shuffle=False, num_workers=2, drop_last=True)\n",
    "\n",
    "# load logo\n",
    "ieee_logo = torchvision.datasets.ImageFolder(\n",
    "    root=args.dataroot+'/IEEE', transform=transform_test)\n",
    "ieee_loader = torch.utils.data.DataLoader(ieee_logo, batch_size=1)\n",
    "for _, (logo, __) in enumerate(ieee_loader):\n",
    "    secret_img = logo.expand(\n",
    "        args.wm_batchsize, logo.shape[1], logo.shape[2], logo.shape[3]).cuda()"
   ]
  }
 ],
 "metadata": {
  "kernelspec": {
   "display_name": "deep_learning",
   "language": "python",
   "name": "python3"
  },
  "language_info": {
   "name": "python",
   "version": "3.7.16"
  },
  "orig_nbformat": 4
 },
 "nbformat": 4,
 "nbformat_minor": 2
}
